{
 "cells": [
  {
   "cell_type": "code",
   "execution_count": 1,
   "id": "0931d059-2d26-4413-bff2-99410c441e0f",
   "metadata": {},
   "outputs": [],
   "source": [
    "from bs4 import BeautifulSoup\n",
    "import requests\n",
    "import smtplib\n",
    "import time\n",
    "import datetime"
   ]
  },
  {
   "cell_type": "markdown",
   "id": "6dda4776-aecb-4def-ba3c-ac5c826bba77",
   "metadata": {},
   "source": [
    "# Price Tracker Function"
   ]
  },
  {
   "cell_type": "code",
   "execution_count": 2,
   "id": "9ca7cd43-d0fa-4831-bc01-bd188e5c1466",
   "metadata": {},
   "outputs": [],
   "source": [
    "def price_tracker():\n",
    "    url_1TB=\"https://www.amazon.in/Seagate-Expansion-1TB-External-HDD/dp/B08ZJDWTJ1/ref=sr_1_1_sspa?crid=1V4MY0FT0G2RN&dib=eyJ2IjoiMSJ9.nvMnlR3i7KH2N3wJiGw-3cggObYNorUnBKIZHqKSS7FMU2qB-5EQNMUcINHOHlxqcX_kwRkIsNFW5JKoI9IHavtAgSu82YI4ntxenJ-dWy0ogqqCVhRM6PHjeXjHyEjsYWiW4b_gOWI1fTsaRzGP0d032YxxgfGIx65jNuCI66N7IlCIkvcRKrpWpbTcOqMBwFB3ImvvPsVv0_4ElN1npmJ39l8JK5vAOsysX2lriqw.xdX3kTj80LWGIw9SmZZTqw86lnqSMIIsRjmPFagNAh0&dib_tag=se&keywords=seagate%2Bexternal%2Bhard%2Bdrive%2Bexpansion&nsdOptOutParam=true&qid=1739026017&sprefix=seagate%2Bexternal%2Bhard%2Bdrive%2Bexpansion%2Caps%2C340&sr=8-1-spons&sp_csd=d2lkZ2V0TmFtZT1zcF9hdGY&th=1\"\n",
    "    url_2TB=\"https://www.amazon.in/Seagate-Expansion-2TB-External-HDD/dp/B08ZJG6TVT/ref=sr_1_4?crid=12GUD06NJCV96&dib=eyJ2IjoiMSJ9.NxuN_PekcaewTpWT6zkkf6228EkWq3I8U2WerDlo-kVMU2qB-5EQNMUcINHOHlxquXKn2uJZ7ifCfxvRCsknCcJeULfWLeNHWesg2mbIn0R-KjOMsMGGTz1OJtyAG9eVmu7CMpgAnmSmoevFc3tMUgczymEasRvYm7tDvckGSKbgWHPJqmBl153FHAFofC7jqxGXp_g7IXwN_YDXwxduDvdIB5j6D47_USmHSPa-fbc.qYejJtXAA6lgJkjgLaZ6_wYMyvPPNLNvuuq00uNKT0w&dib_tag=se&keywords=seagate%2Bexpansion&nsdOptOutParam=true&qid=1739027236&sprefix=seagate%2Bexternal%2Bhard%2Bdrive%2Bexpansion%2Caps%2C562&sr=8-4&th=1\"\n",
    "    url_4TB=\"https://www.amazon.in/Seagate-Expansion-4TB-Desktop-External/dp/B092R6S16L/ref=sr_1_5?crid=12GUD06NJCV96&dib=eyJ2IjoiMSJ9.NxuN_PekcaewTpWT6zkkf6228EkWq3I8U2WerDlo-kVMU2qB-5EQNMUcINHOHlxquXKn2uJZ7ifCfxvRCsknCcJeULfWLeNHWesg2mbIn0R-KjOMsMGGTz1OJtyAG9eVmu7CMpgAnmSmoevFc3tMUgczymEasRvYm7tDvckGSKbgWHPJqmBl153FHAFofC7jqxGXp_g7IXwN_YDXwxduDvdIB5j6D47_USmHSPa-fbc.qYejJtXAA6lgJkjgLaZ6_wYMyvPPNLNvuuq00uNKT0w&dib_tag=se&keywords=seagate%2Bexpansion&nsdOptOutParam=true&qid=1739027236&sprefix=seagate%2Bexternal%2Bhard%2Bdrive%2Bexpansion%2Caps%2C562&sr=8-5&th=1\"\n",
    "    \n",
    "    \n",
    "    \n",
    "    headers = {\"User-Agent\": \"Mozilla/5.0 (Windows NT 10.0; Win64; x64) AppleWebKit/537.36 (KHTML, like Gecko) Chrome/78.0.3904.108 Safari/537.36\", \"Accept-Encoding\":\"gzip, deflate\", \"Accept\":\"text/html,application/xhtml+xml,application/xml;q=0.9,*/*;q=0.8\", \"DNT\":\"1\",\"Connection\":\"close\", \"Upgrade-Insecure-Requests\":\"1\"}\n",
    "    \n",
    "    page1TB=requests.get(url_1TB, headers=headers)\n",
    "    page2TB=requests.get(url_2TB, headers=headers)\n",
    "    page4TB=requests.get(url_4TB, headers=headers)\n",
    "    \n",
    "    soup1TB=BeautifulSoup(page1TB.content, 'html.parser')\n",
    "    soup1TB=BeautifulSoup(soup1TB.prettify(),'html.parser')\n",
    "    soup2TB=BeautifulSoup(page2TB.content, 'html.parser')\n",
    "    soup2TB=BeautifulSoup(soup2TB.prettify(), 'html.parser')\n",
    "    soup4TB=BeautifulSoup(page4TB.content, 'html.parser')\n",
    "    soup4TB=BeautifulSoup(soup4TB.prettify(), 'html.parser')\n",
    "    \n",
    "    \n",
    "    name_1TB = soup1TB.find(id=\"productTitle\").text\n",
    "    price_1TB= soup1TB.find('span', class_='a-price-whole').text\n",
    "    \n",
    "    name_2TB=soup2TB.find(id=\"productTitle\").text\n",
    "    price_2TB=soup2TB.find('span', class_='a-price-whole').text\n",
    "    \n",
    "    name_4TB=soup4TB.find(id=\"productTitle\").text\n",
    "    price_4TB=soup4TB.find('span', class_='a-price-whole').text\n",
    "\n",
    "    name_1TB=name_1TB.strip()\n",
    "    price_1TB=price_1TB.strip()[0:5]\n",
    "\n",
    "    name_2TB=name_2TB.strip()\n",
    "    price_2TB=price_2TB.strip()[0:5]\n",
    "\n",
    "    name_4TB=name_4TB.strip()\n",
    "    price_4TB=price_4TB.strip()[0:6]\n",
    "\n",
    "\n",
    "    import datetime\n",
    "\n",
    "    today=datetime.date.today()\n",
    "    # time=datetime.datetime.now().time()\n",
    "\n",
    "    import csv\n",
    "\n",
    "    header=['Title', 'Price', 'Date']\n",
    "    data_1tb=[name_1TB, price_1TB, today]\n",
    "    data_2tb=[name_2TB, price_2TB, today]\n",
    "    data_4tb=[name_4TB, price_4TB, today]\n",
    "\n",
    "\n",
    "    with open(\"Seagate Hdd's Price.csv\", 'a+', newline='', encoding='UTF8') as f:\n",
    "        writer=csv.writer(f)\n",
    "        writer.writerow(data_1tb)\n",
    "        writer.writerow(data_2tb)\n",
    "        writer.writerow(data_4tb)\n",
    "\n"
   ]
  },
  {
   "cell_type": "code",
   "execution_count": null,
   "id": "5792b179-557a-44c1-9061-4356ec339b39",
   "metadata": {},
   "outputs": [],
   "source": [
    "while True:\n",
    "    price_tracker()\n",
    "    time.sleep()\n"
   ]
  },
  {
   "cell_type": "code",
   "execution_count": 65,
   "id": "6c54aa5a-e105-4a6d-a335-4ab4cc6a69c6",
   "metadata": {},
   "outputs": [],
   "source": [
    "import pandas as pd\n",
    "\n",
    "df = pd.read_csv(r\"C:\\Users\\User\\Desktop\\YASH\\DA Portfolio Projects\\Project-Unrelated\\Python\\Seagate Hdd's Price.csv\")"
   ]
  },
  {
   "cell_type": "code",
   "execution_count": 66,
   "id": "6c81d277-9742-4bf0-9ba8-b193b463aed0",
   "metadata": {},
   "outputs": [
    {
     "data": {
      "text/html": [
       "<div>\n",
       "<style scoped>\n",
       "    .dataframe tbody tr th:only-of-type {\n",
       "        vertical-align: middle;\n",
       "    }\n",
       "\n",
       "    .dataframe tbody tr th {\n",
       "        vertical-align: top;\n",
       "    }\n",
       "\n",
       "    .dataframe thead th {\n",
       "        text-align: right;\n",
       "    }\n",
       "</style>\n",
       "<table border=\"1\" class=\"dataframe\">\n",
       "  <thead>\n",
       "    <tr style=\"text-align: right;\">\n",
       "      <th></th>\n",
       "      <th>Title</th>\n",
       "      <th>Price</th>\n",
       "      <th>Date</th>\n",
       "    </tr>\n",
       "  </thead>\n",
       "  <tbody>\n",
       "    <tr>\n",
       "      <th>0</th>\n",
       "      <td>Seagate Expansion 1TB External HDD - USB 3.0 f...</td>\n",
       "      <td>5,249</td>\n",
       "      <td>2025-02-09</td>\n",
       "    </tr>\n",
       "    <tr>\n",
       "      <th>1</th>\n",
       "      <td>Seagate Expansion 2TB External HDD - USB 3.0 f...</td>\n",
       "      <td>7,249</td>\n",
       "      <td>2025-02-09</td>\n",
       "    </tr>\n",
       "    <tr>\n",
       "      <th>2</th>\n",
       "      <td>Seagate Expansion 4TB Desktop External HDD - U...</td>\n",
       "      <td>10,799</td>\n",
       "      <td>2025-02-09</td>\n",
       "    </tr>\n",
       "    <tr>\n",
       "      <th>3</th>\n",
       "      <td>Seagate Expansion 1TB External HDD - USB 3.0 f...</td>\n",
       "      <td>5,249</td>\n",
       "      <td>2025-02-09</td>\n",
       "    </tr>\n",
       "    <tr>\n",
       "      <th>4</th>\n",
       "      <td>Seagate Expansion 2TB External HDD - USB 3.0 f...</td>\n",
       "      <td>7,249</td>\n",
       "      <td>2025-02-09</td>\n",
       "    </tr>\n",
       "    <tr>\n",
       "      <th>5</th>\n",
       "      <td>Seagate Expansion 4TB Desktop External HDD - U...</td>\n",
       "      <td>10,799</td>\n",
       "      <td>2025-02-09</td>\n",
       "    </tr>\n",
       "    <tr>\n",
       "      <th>6</th>\n",
       "      <td>Seagate Expansion 1TB External HDD - USB 3.0 f...</td>\n",
       "      <td>5,249</td>\n",
       "      <td>2025-02-09</td>\n",
       "    </tr>\n",
       "    <tr>\n",
       "      <th>7</th>\n",
       "      <td>Seagate Expansion 2TB External HDD - USB 3.0 f...</td>\n",
       "      <td>7,249</td>\n",
       "      <td>2025-02-09</td>\n",
       "    </tr>\n",
       "    <tr>\n",
       "      <th>8</th>\n",
       "      <td>Seagate Expansion 4TB Desktop External HDD - U...</td>\n",
       "      <td>10,799</td>\n",
       "      <td>2025-02-09</td>\n",
       "    </tr>\n",
       "  </tbody>\n",
       "</table>\n",
       "</div>"
      ],
      "text/plain": [
       "                                               Title   Price        Date\n",
       "0  Seagate Expansion 1TB External HDD - USB 3.0 f...   5,249  2025-02-09\n",
       "1  Seagate Expansion 2TB External HDD - USB 3.0 f...   7,249  2025-02-09\n",
       "2  Seagate Expansion 4TB Desktop External HDD - U...  10,799  2025-02-09\n",
       "3  Seagate Expansion 1TB External HDD - USB 3.0 f...   5,249  2025-02-09\n",
       "4  Seagate Expansion 2TB External HDD - USB 3.0 f...   7,249  2025-02-09\n",
       "5  Seagate Expansion 4TB Desktop External HDD - U...  10,799  2025-02-09\n",
       "6  Seagate Expansion 1TB External HDD - USB 3.0 f...   5,249  2025-02-09\n",
       "7  Seagate Expansion 2TB External HDD - USB 3.0 f...   7,249  2025-02-09\n",
       "8  Seagate Expansion 4TB Desktop External HDD - U...  10,799  2025-02-09"
      ]
     },
     "execution_count": 66,
     "metadata": {},
     "output_type": "execute_result"
    }
   ],
   "source": [
    "# df.to_csv(r\"C:\\Users\\User\\Desktop\\YASH\\DA Portfolio Projects\\Project-Unrelated\\Python\\Seagate Hdd's Price.csv\", index=False)\n",
    "# df.drop(df.iloc[:,0:1])\n",
    "# df=df.drop(df.iloc[:,0:1], axis=1)\n",
    "df"
   ]
  },
  {
   "cell_type": "markdown",
   "id": "31ea500a-c857-42b1-a02a-0ded699f7cd3",
   "metadata": {},
   "source": [
    "# Main Function Code"
   ]
  },
  {
   "cell_type": "code",
   "execution_count": null,
   "id": "d2c23182-e808-4572-a384-c5b17fee10b3",
   "metadata": {},
   "outputs": [],
   "source": [
    "# url_1TB=\"https://www.amazon.in/Seagate-Expansion-1TB-External-HDD/dp/B08ZJDWTJ1/ref=sr_1_1_sspa?crid=1V4MY0FT0G2RN&dib=eyJ2IjoiMSJ9.nvMnlR3i7KH2N3wJiGw-3cggObYNorUnBKIZHqKSS7FMU2qB-5EQNMUcINHOHlxqcX_kwRkIsNFW5JKoI9IHavtAgSu82YI4ntxenJ-dWy0ogqqCVhRM6PHjeXjHyEjsYWiW4b_gOWI1fTsaRzGP0d032YxxgfGIx65jNuCI66N7IlCIkvcRKrpWpbTcOqMBwFB3ImvvPsVv0_4ElN1npmJ39l8JK5vAOsysX2lriqw.xdX3kTj80LWGIw9SmZZTqw86lnqSMIIsRjmPFagNAh0&dib_tag=se&keywords=seagate%2Bexternal%2Bhard%2Bdrive%2Bexpansion&nsdOptOutParam=true&qid=1739026017&sprefix=seagate%2Bexternal%2Bhard%2Bdrive%2Bexpansion%2Caps%2C340&sr=8-1-spons&sp_csd=d2lkZ2V0TmFtZT1zcF9hdGY&th=1\"\n",
    "# url_2TB=\"https://www.amazon.in/Seagate-Expansion-2TB-External-HDD/dp/B08ZJG6TVT/ref=sr_1_4?crid=12GUD06NJCV96&dib=eyJ2IjoiMSJ9.NxuN_PekcaewTpWT6zkkf6228EkWq3I8U2WerDlo-kVMU2qB-5EQNMUcINHOHlxquXKn2uJZ7ifCfxvRCsknCcJeULfWLeNHWesg2mbIn0R-KjOMsMGGTz1OJtyAG9eVmu7CMpgAnmSmoevFc3tMUgczymEasRvYm7tDvckGSKbgWHPJqmBl153FHAFofC7jqxGXp_g7IXwN_YDXwxduDvdIB5j6D47_USmHSPa-fbc.qYejJtXAA6lgJkjgLaZ6_wYMyvPPNLNvuuq00uNKT0w&dib_tag=se&keywords=seagate%2Bexpansion&nsdOptOutParam=true&qid=1739027236&sprefix=seagate%2Bexternal%2Bhard%2Bdrive%2Bexpansion%2Caps%2C562&sr=8-4&th=1\"\n",
    "# url_4TB=\"https://www.amazon.in/Seagate-Expansion-4TB-Desktop-External/dp/B092R6S16L/ref=sr_1_5?crid=12GUD06NJCV96&dib=eyJ2IjoiMSJ9.NxuN_PekcaewTpWT6zkkf6228EkWq3I8U2WerDlo-kVMU2qB-5EQNMUcINHOHlxquXKn2uJZ7ifCfxvRCsknCcJeULfWLeNHWesg2mbIn0R-KjOMsMGGTz1OJtyAG9eVmu7CMpgAnmSmoevFc3tMUgczymEasRvYm7tDvckGSKbgWHPJqmBl153FHAFofC7jqxGXp_g7IXwN_YDXwxduDvdIB5j6D47_USmHSPa-fbc.qYejJtXAA6lgJkjgLaZ6_wYMyvPPNLNvuuq00uNKT0w&dib_tag=se&keywords=seagate%2Bexpansion&nsdOptOutParam=true&qid=1739027236&sprefix=seagate%2Bexternal%2Bhard%2Bdrive%2Bexpansion%2Caps%2C562&sr=8-5&th=1\"\n",
    "\n",
    "\n",
    "\n",
    "# headers = {\"User-Agent\": \"Mozilla/5.0 (Windows NT 10.0; Win64; x64) AppleWebKit/537.36 (KHTML, like Gecko) Chrome/78.0.3904.108 Safari/537.36\", \"Accept-Encoding\":\"gzip, deflate\", \"Accept\":\"text/html,application/xhtml+xml,application/xml;q=0.9,*/*;q=0.8\", \"DNT\":\"1\",\"Connection\":\"close\", \"Upgrade-Insecure-Requests\":\"1\"}\n",
    "\n",
    "# page1TB=requests.get(url_1TB, headers=headers)\n",
    "# page2TB=requests.get(url_2TB, headers=headers)\n",
    "# page4TB=requests.get(url_4TB, headers=headers)\n",
    "\n",
    "# soup1TB=BeautifulSoup(page1TB.content, 'html.parser')\n",
    "# soup1TB=BeautifulSoup(soup1TB.prettify(),'html.parser')\n",
    "# soup2TB=BeautifulSoup(page2TB.content, 'html.parser')\n",
    "# soup2TB=BeautifulSoup(soup2TB.prettify(), 'html.parser')\n",
    "# soup4TB=BeautifulSoup(page4TB.content, 'html.parser')\n",
    "# soup4TB=BeautifulSoup(soup4TB.prettify(), 'html.parser')\n",
    "\n",
    "\n",
    "# name_1TB = soup1TB.find(id=\"productTitle\").text\n",
    "# price_1TB= soup1TB.find('span', class_='a-price-whole').text\n",
    "\n",
    "# name_2TB=soup2TB.find(id=\"productTitle\").text\n",
    "# price_2TB=soup2TB.find('span', class_='a-price-whole').text\n",
    "\n",
    "# name_4TB=soup4TB.find(id=\"productTitle\").text\n",
    "# price_4TB=soup4TB.find('span', class_='a-price-whole').text\n",
    "\n"
   ]
  },
  {
   "cell_type": "code",
   "execution_count": null,
   "id": "c998535e-d974-47f4-9cb4-1cc7cdd4e8e7",
   "metadata": {},
   "outputs": [],
   "source": [
    "# requests.get(url)"
   ]
  },
  {
   "cell_type": "code",
   "execution_count": null,
   "id": "2787538f-ffba-444b-aa67-2a4111ee8403",
   "metadata": {},
   "outputs": [],
   "source": [
    "# name_1TB=name_1TB.strip()\n",
    "# price_1TB=price_1TB.strip()[0:5]"
   ]
  },
  {
   "cell_type": "code",
   "execution_count": null,
   "id": "aa549155-34a2-4d04-8116-af59eb8fbd7c",
   "metadata": {},
   "outputs": [],
   "source": [
    "# name_2TB=name_2TB.strip()\n",
    "# price_2TB=price_2TB.strip()[0:5]"
   ]
  },
  {
   "cell_type": "code",
   "execution_count": null,
   "id": "78392de5-d9e8-4006-aa89-aebe5cd49413",
   "metadata": {},
   "outputs": [],
   "source": [
    "# name_4TB=name_4TB.strip()\n",
    "# price_4TB=price_4TB.strip()[0:6]"
   ]
  },
  {
   "cell_type": "code",
   "execution_count": null,
   "id": "8db7ba39-b91c-46eb-aa27-9997cd668fa2",
   "metadata": {},
   "outputs": [],
   "source": [
    "# print(name_1TB)\n",
    "# print(price_1TB)"
   ]
  },
  {
   "cell_type": "code",
   "execution_count": null,
   "id": "4554be55-5492-4297-a435-e2ca26ffb205",
   "metadata": {},
   "outputs": [],
   "source": [
    "# print(name_2TB)\n",
    "# print(price_2TB)"
   ]
  },
  {
   "cell_type": "code",
   "execution_count": null,
   "id": "4f11fc2b-ea17-485a-9ac7-0c280b72b6c9",
   "metadata": {},
   "outputs": [],
   "source": [
    "# print(name_4TB)\n",
    "# print(price_4TB)"
   ]
  },
  {
   "cell_type": "markdown",
   "id": "76555092-93d6-4b44-84b3-56822c0a10bc",
   "metadata": {},
   "source": [
    "# datetime date"
   ]
  },
  {
   "cell_type": "code",
   "execution_count": null,
   "id": "39369520-248d-4944-9aeb-6b389c29b0b4",
   "metadata": {},
   "outputs": [],
   "source": [
    "# import datetime\n",
    "\n",
    "# today=datetime.date.today()\n",
    "# time=datetime.datetime.now().time()"
   ]
  },
  {
   "cell_type": "code",
   "execution_count": null,
   "id": "36de7405-42b5-4407-8613-7fc1c0ede2fa",
   "metadata": {},
   "outputs": [],
   "source": [
    "# today"
   ]
  },
  {
   "cell_type": "code",
   "execution_count": null,
   "id": "441565c1-f5c2-47b4-9d9f-f04599ff501c",
   "metadata": {},
   "outputs": [],
   "source": [
    "# time=str(time)\n",
    "# time"
   ]
  },
  {
   "cell_type": "markdown",
   "id": "5e714515-7c0c-46c9-aba5-da92071f7e42",
   "metadata": {},
   "source": [
    "# Create csv"
   ]
  },
  {
   "cell_type": "code",
   "execution_count": null,
   "id": "ad511f6c-46f5-4256-a92f-9362e4e6b94d",
   "metadata": {},
   "outputs": [],
   "source": [
    "# import csv\n",
    "\n",
    "# header=['Title', 'Price', 'Date', 'Time']\n",
    "# data_1tb=[name_1TB, price_1TB, today, time]\n",
    "# data_2tb=[name_2TB, price_2TB, today, time]\n",
    "# data_4tb=[name_4TB, price_4TB, today, time]\n",
    "\n",
    "# with open(\"Seagate Hdd's Price.csv\", 'w', newline=\"\", encoding='UTF8') as f:\n",
    "#     writer=csv.writer(f)\n",
    "#     writer.writerow(header)\n",
    "#     writer.writerow(data_1tb)\n",
    "#     writer.writerow(data_2tb)\n",
    "#     writer.writerow(data_4tb)"
   ]
  },
  {
   "cell_type": "markdown",
   "id": "92a26cf2-8a94-4daf-9758-78d087b443c1",
   "metadata": {},
   "source": [
    "# Append Data to csv"
   ]
  },
  {
   "cell_type": "code",
   "execution_count": null,
   "id": "edf9cf31-a647-48ce-a48e-7a71d8c39b9c",
   "metadata": {},
   "outputs": [],
   "source": [
    "# with open(\"Seagate Hdd's Price.csv\", 'a+', newline='', encoding='UTF8') as f:\n",
    "#     writer=csv.writer(f)\n",
    "#     writer.writerow(data_1tb)\n",
    "#     writer.writerow(data_2tb)\n",
    "#     writer.writerow(data_4tb)"
   ]
  }
 ],
 "metadata": {
  "kernelspec": {
   "display_name": "Python 3 (ipykernel)",
   "language": "python",
   "name": "python3"
  },
  "language_info": {
   "codemirror_mode": {
    "name": "ipython",
    "version": 3
   },
   "file_extension": ".py",
   "mimetype": "text/x-python",
   "name": "python",
   "nbconvert_exporter": "python",
   "pygments_lexer": "ipython3",
   "version": "3.12.1"
  }
 },
 "nbformat": 4,
 "nbformat_minor": 5
}
